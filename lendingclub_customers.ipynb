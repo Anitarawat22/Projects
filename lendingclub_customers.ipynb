{
 "cells": [
  {
   "cell_type": "code",
   "execution_count": 7,
   "id": "88ed2361",
   "metadata": {},
   "outputs": [],
   "source": [
    "from pyspark.sql import SparkSession \n",
    "import getpass\n",
    "username = getpass.getuser ()\n",
    "spark = SparkSession.\\\n",
    "    builder. \\\n",
    "    config('spark-ui.port', '0'). \\\n",
    "    config('spark-shuffle.use0ldFetchProtocol', 'true'). \\\n",
    "    config (\"spark.sql warehouse.dir\", f\"/user/(username)/warehouse\"). \\\n",
    "    enableHiveSupport(). \\\n",
    "    master ('yarn'). \\\n",
    "    getOrCreate()\n"
   ]
  },
  {
   "cell_type": "markdown",
   "id": "d6a2d118",
   "metadata": {},
   "source": [
    "#### Creating a dataframe\n"
   ]
  },
  {
   "cell_type": "code",
   "execution_count": 8,
   "id": "468f95e8",
   "metadata": {},
   "outputs": [],
   "source": [
    "customers_schema = 'member_id string , emp_title string, emp_length string, home_ownership string, annual_inc float, addr_state string, zip_code string, country string, grade string, sub_grade string, verification_status string, tot_hi_cred_lim float, application_type string, annual_inc_joint float , verification_status_joint string'"
   ]
  },
  {
   "cell_type": "code",
   "execution_count": 9,
   "id": "a4cd16d4",
   "metadata": {},
   "outputs": [],
   "source": [
    "customers_raw_df = spark.read \\\n",
    ".format(\"csv\") \\\n",
    ".option(\"header\",\"True\") \\\n",
    ".schema(customers_schema) \\\n",
    ".option(\"inferSchema\",\"True\") \\\n",
    ".load(\"/public/trendytech/lendingclubproject/raw/customers_data_csv\")"
   ]
  },
  {
   "cell_type": "code",
   "execution_count": 10,
   "id": "0f811d88",
   "metadata": {},
   "outputs": [
    {
     "data": {
      "text/html": [
       "<table border='1'>\n",
       "<tr><th>member_id</th><th>emp_title</th><th>emp_length</th><th>home_ownership</th><th>annual_inc</th><th>addr_state</th><th>zip_code</th><th>country</th><th>grade</th><th>sub_grade</th><th>verification_status</th><th>tot_hi_cred_lim</th><th>application_type</th><th>annual_inc_joint</th><th>verification_status_joint</th></tr>\n",
       "<tr><td>b59d80da191f5b573...</td><td>null</td><td>null</td><td>RENT</td><td>50000.0</td><td>OR</td><td>973xx</td><td>USA</td><td>A</td><td>A5</td><td>Source Verified</td><td>8600.0</td><td>Individual</td><td>null</td><td>null</td></tr>\n",
       "<tr><td>202d9f56ecb7c3bc9...</td><td>police officer</td><td>7 years</td><td>OWN</td><td>85000.0</td><td>TX</td><td>799xx</td><td>USA</td><td>A</td><td>A5</td><td>Source Verified</td><td>272384.0</td><td>Individual</td><td>null</td><td>null</td></tr>\n",
       "<tr><td>e5a140c0922b554b9...</td><td>community living ...</td><td>6 years</td><td>RENT</td><td>48000.0</td><td>NY</td><td>146xx</td><td>USA</td><td>B</td><td>B2</td><td>Source Verified</td><td>85092.0</td><td>Individual</td><td>null</td><td>null</td></tr>\n",
       "<tr><td>e12aefc548f750777...</td><td>Office</td><td>10+ years</td><td>OWN</td><td>33000.0</td><td>CT</td><td>067xx</td><td>USA</td><td>F</td><td>F1</td><td>Verified</td><td>7100.0</td><td>Individual</td><td>null</td><td>null</td></tr>\n",
       "<tr><td>1b3a50d854fbbf97e...</td><td>Special Tooling I...</td><td>10+ years</td><td>MORTGAGE</td><td>81000.0</td><td>TX</td><td>791xx</td><td>USA</td><td>E</td><td>E5</td><td>Verified</td><td>190274.0</td><td>Individual</td><td>null</td><td>null</td></tr>\n",
       "<tr><td>1c4329e5f17697127...</td><td>Mine ops tech 6</td><td>2 years</td><td>MORTGAGE</td><td>68000.0</td><td>AZ</td><td>855xx</td><td>USA</td><td>C</td><td>C3</td><td>Not Verified</td><td>182453.0</td><td>Individual</td><td>null</td><td>null</td></tr>\n",
       "<tr><td>5026c86ad983175eb...</td><td>caregiver</td><td>4 years</td><td>RENT</td><td>76020.0</td><td>WA</td><td>993xx</td><td>USA</td><td>C</td><td>C2</td><td>Source Verified</td><td>15308.0</td><td>Individual</td><td>null</td><td>null</td></tr>\n",
       "<tr><td>9847d8c1e9d0b2084...</td><td>null</td><td>null</td><td>OWN</td><td>65000.0</td><td>IL</td><td>624xx</td><td>USA</td><td>E</td><td>E3</td><td>Verified</td><td>128800.0</td><td>Individual</td><td>null</td><td>null</td></tr>\n",
       "<tr><td>8340dbe1adea41fb4...</td><td>Vice President Re...</td><td>8 years</td><td>MORTGAGE</td><td>111000.0</td><td>CT</td><td>063xx</td><td>USA</td><td>A</td><td>A1</td><td>Not Verified</td><td>343507.0</td><td>Individual</td><td>null</td><td>null</td></tr>\n",
       "<tr><td>d4de0de3ab7d79ad4...</td><td>FOREMAN</td><td>10+ years</td><td>MORTGAGE</td><td>67000.0</td><td>WA</td><td>992xx</td><td>USA</td><td>G</td><td>G2</td><td>Verified</td><td>211501.0</td><td>Individual</td><td>null</td><td>null</td></tr>\n",
       "<tr><td>3df3cdeddb74a8712...</td><td>Strategist</td><td>1 year</td><td>RENT</td><td>120000.0</td><td>CA</td><td>946xx</td><td>USA</td><td>A</td><td>A5</td><td>Verified</td><td>56844.0</td><td>Individual</td><td>null</td><td>null</td></tr>\n",
       "<tr><td>9dd72636b1b4045b4...</td><td>Office Manager</td><td>2 years</td><td>RENT</td><td>52000.0</td><td>FL</td><td>327xx</td><td>USA</td><td>D</td><td>D1</td><td>Source Verified</td><td>39393.0</td><td>Individual</td><td>null</td><td>null</td></tr>\n",
       "<tr><td>1d4e1ef4353b73c00...</td><td>Electrician</td><td>2 years</td><td>MORTGAGE</td><td>50000.0</td><td>IL</td><td>606xx</td><td>USA</td><td>C</td><td>C3</td><td>Not Verified</td><td>66064.0</td><td>Individual</td><td>null</td><td>null</td></tr>\n",
       "<tr><td>6f196952e71277fd4...</td><td>Finance Manager</td><td>1 year</td><td>MORTGAGE</td><td>125000.0</td><td>GA</td><td>310xx</td><td>USA</td><td>E</td><td>E2</td><td>Source Verified</td><td>555591.0</td><td>Individual</td><td>null</td><td>null</td></tr>\n",
       "<tr><td>9c617cbc6e3e3d6a1...</td><td>Nurse practitioner</td><td>5 years</td><td>MORTGAGE</td><td>165000.0</td><td>IL</td><td>610xx</td><td>USA</td><td>F</td><td>F1</td><td>Source Verified</td><td>366113.0</td><td>Individual</td><td>null</td><td>null</td></tr>\n",
       "<tr><td>45eb04dd75400a942...</td><td>equipment operator</td><td>3 years</td><td>MORTGAGE</td><td>60000.0</td><td>CT</td><td>064xx</td><td>USA</td><td>C</td><td>C4</td><td>Source Verified</td><td>198693.0</td><td>Individual</td><td>null</td><td>null</td></tr>\n",
       "<tr><td>08d233c81f9e50726...</td><td>caregiver</td><td>2 years</td><td>RENT</td><td>36000.0</td><td>MO</td><td>648xx</td><td>USA</td><td>C</td><td>C1</td><td>Source Verified</td><td>14477.0</td><td>Individual</td><td>null</td><td>null</td></tr>\n",
       "<tr><td>8ff4d0ed17a1cab92...</td><td>owner</td><td>10+ years</td><td>MORTGAGE</td><td>28000.0</td><td>CO</td><td>801xx</td><td>USA</td><td>D</td><td>D1</td><td>Verified</td><td>314400.0</td><td>Individual</td><td>null</td><td>null</td></tr>\n",
       "<tr><td>aec13cfd611b2cfea...</td><td>Community Supervi...</td><td>2 years</td><td>RENT</td><td>33000.0</td><td>GA</td><td>306xx</td><td>USA</td><td>D</td><td>D2</td><td>Source Verified</td><td>188700.0</td><td>Individual</td><td>null</td><td>null</td></tr>\n",
       "<tr><td>9ba8c96ccba6cd1f0...</td><td>Contract Specialist</td><td>5 years</td><td>MORTGAGE</td><td>74700.0</td><td>UT</td><td>844xx</td><td>USA</td><td>D</td><td>D4</td><td>Verified</td><td>614272.0</td><td>Individual</td><td>null</td><td>null</td></tr>\n",
       "</table>\n",
       "only showing top 20 rows\n"
      ],
      "text/plain": [
       "+--------------------+--------------------+----------+--------------+----------+----------+--------+-------+-----+---------+-------------------+---------------+----------------+----------------+-------------------------+\n",
       "|           member_id|           emp_title|emp_length|home_ownership|annual_inc|addr_state|zip_code|country|grade|sub_grade|verification_status|tot_hi_cred_lim|application_type|annual_inc_joint|verification_status_joint|\n",
       "+--------------------+--------------------+----------+--------------+----------+----------+--------+-------+-----+---------+-------------------+---------------+----------------+----------------+-------------------------+\n",
       "|b59d80da191f5b573...|                null|      null|          RENT|   50000.0|        OR|   973xx|    USA|    A|       A5|    Source Verified|         8600.0|      Individual|            null|                     null|\n",
       "|202d9f56ecb7c3bc9...|      police officer|   7 years|           OWN|   85000.0|        TX|   799xx|    USA|    A|       A5|    Source Verified|       272384.0|      Individual|            null|                     null|\n",
       "|e5a140c0922b554b9...|community living ...|   6 years|          RENT|   48000.0|        NY|   146xx|    USA|    B|       B2|    Source Verified|        85092.0|      Individual|            null|                     null|\n",
       "|e12aefc548f750777...|              Office| 10+ years|           OWN|   33000.0|        CT|   067xx|    USA|    F|       F1|           Verified|         7100.0|      Individual|            null|                     null|\n",
       "|1b3a50d854fbbf97e...|Special Tooling I...| 10+ years|      MORTGAGE|   81000.0|        TX|   791xx|    USA|    E|       E5|           Verified|       190274.0|      Individual|            null|                     null|\n",
       "|1c4329e5f17697127...|     Mine ops tech 6|   2 years|      MORTGAGE|   68000.0|        AZ|   855xx|    USA|    C|       C3|       Not Verified|       182453.0|      Individual|            null|                     null|\n",
       "|5026c86ad983175eb...|           caregiver|   4 years|          RENT|   76020.0|        WA|   993xx|    USA|    C|       C2|    Source Verified|        15308.0|      Individual|            null|                     null|\n",
       "|9847d8c1e9d0b2084...|                null|      null|           OWN|   65000.0|        IL|   624xx|    USA|    E|       E3|           Verified|       128800.0|      Individual|            null|                     null|\n",
       "|8340dbe1adea41fb4...|Vice President Re...|   8 years|      MORTGAGE|  111000.0|        CT|   063xx|    USA|    A|       A1|       Not Verified|       343507.0|      Individual|            null|                     null|\n",
       "|d4de0de3ab7d79ad4...|             FOREMAN| 10+ years|      MORTGAGE|   67000.0|        WA|   992xx|    USA|    G|       G2|           Verified|       211501.0|      Individual|            null|                     null|\n",
       "|3df3cdeddb74a8712...|          Strategist|    1 year|          RENT|  120000.0|        CA|   946xx|    USA|    A|       A5|           Verified|        56844.0|      Individual|            null|                     null|\n",
       "|9dd72636b1b4045b4...|      Office Manager|   2 years|          RENT|   52000.0|        FL|   327xx|    USA|    D|       D1|    Source Verified|        39393.0|      Individual|            null|                     null|\n",
       "|1d4e1ef4353b73c00...|         Electrician|   2 years|      MORTGAGE|   50000.0|        IL|   606xx|    USA|    C|       C3|       Not Verified|        66064.0|      Individual|            null|                     null|\n",
       "|6f196952e71277fd4...|     Finance Manager|    1 year|      MORTGAGE|  125000.0|        GA|   310xx|    USA|    E|       E2|    Source Verified|       555591.0|      Individual|            null|                     null|\n",
       "|9c617cbc6e3e3d6a1...|  Nurse practitioner|   5 years|      MORTGAGE|  165000.0|        IL|   610xx|    USA|    F|       F1|    Source Verified|       366113.0|      Individual|            null|                     null|\n",
       "|45eb04dd75400a942...|  equipment operator|   3 years|      MORTGAGE|   60000.0|        CT|   064xx|    USA|    C|       C4|    Source Verified|       198693.0|      Individual|            null|                     null|\n",
       "|08d233c81f9e50726...|           caregiver|   2 years|          RENT|   36000.0|        MO|   648xx|    USA|    C|       C1|    Source Verified|        14477.0|      Individual|            null|                     null|\n",
       "|8ff4d0ed17a1cab92...|               owner| 10+ years|      MORTGAGE|   28000.0|        CO|   801xx|    USA|    D|       D1|           Verified|       314400.0|      Individual|            null|                     null|\n",
       "|aec13cfd611b2cfea...|Community Supervi...|   2 years|          RENT|   33000.0|        GA|   306xx|    USA|    D|       D2|    Source Verified|       188700.0|      Individual|            null|                     null|\n",
       "|9ba8c96ccba6cd1f0...| Contract Specialist|   5 years|      MORTGAGE|   74700.0|        UT|   844xx|    USA|    D|       D4|           Verified|       614272.0|      Individual|            null|                     null|\n",
       "+--------------------+--------------------+----------+--------------+----------+----------+--------+-------+-----+---------+-------------------+---------------+----------------+----------------+-------------------------+\n",
       "only showing top 20 rows"
      ]
     },
     "execution_count": 10,
     "metadata": {},
     "output_type": "execute_result"
    }
   ],
   "source": [
    "customers_raw_df"
   ]
  },
  {
   "cell_type": "code",
   "execution_count": 11,
   "id": "08699f3d",
   "metadata": {},
   "outputs": [
    {
     "name": "stdout",
     "output_type": "stream",
     "text": [
      "root\n",
      " |-- member_id: string (nullable = true)\n",
      " |-- emp_title: string (nullable = true)\n",
      " |-- emp_length: string (nullable = true)\n",
      " |-- home_ownership: string (nullable = true)\n",
      " |-- annual_inc: float (nullable = true)\n",
      " |-- addr_state: string (nullable = true)\n",
      " |-- zip_code: string (nullable = true)\n",
      " |-- country: string (nullable = true)\n",
      " |-- grade: string (nullable = true)\n",
      " |-- sub_grade: string (nullable = true)\n",
      " |-- verification_status: string (nullable = true)\n",
      " |-- tot_hi_cred_lim: float (nullable = true)\n",
      " |-- application_type: string (nullable = true)\n",
      " |-- annual_inc_joint: float (nullable = true)\n",
      " |-- verification_status_joint: string (nullable = true)\n",
      "\n"
     ]
    }
   ],
   "source": [
    "customers_raw_df.printSchema()"
   ]
  },
  {
   "cell_type": "markdown",
   "id": "308c828b",
   "metadata": {},
   "source": [
    "####RENAME COLUMNS"
   ]
  },
  {
   "cell_type": "code",
   "execution_count": 12,
   "id": "3b212de4",
   "metadata": {},
   "outputs": [],
   "source": [
    "customers_raw_renamed = customers_raw_df.withColumnRenamed(\"annual_inc\",\"annual_income\") \\\n",
    ".withColumnRenamed(\"addr_state\",\"address_state\") \\\n",
    ".withColumnRenamed(\"zip_code\",\"address_zipcode\") \\\n",
    ".withColumnRenamed(\"country\",\"address_country\") \\\n",
    ".withColumnRenamed(\"tot_hi_cred_lim\",\"total_high_credit_limit\") \\\n",
    ".withColumnRenamed(\"annual_inc_joint\",\"join_annual_income\") "
   ]
  },
  {
   "cell_type": "code",
   "execution_count": 13,
   "id": "fb38c4d7",
   "metadata": {},
   "outputs": [
    {
     "data": {
      "text/html": [
       "<table border='1'>\n",
       "<tr><th>member_id</th><th>emp_title</th><th>emp_length</th><th>home_ownership</th><th>annual_income</th><th>address_state</th><th>address_zipcode</th><th>address_country</th><th>grade</th><th>sub_grade</th><th>verification_status</th><th>total_high_credit_limit</th><th>application_type</th><th>join_annual_income</th><th>verification_status_joint</th></tr>\n",
       "<tr><td>b59d80da191f5b573...</td><td>null</td><td>null</td><td>RENT</td><td>50000.0</td><td>OR</td><td>973xx</td><td>USA</td><td>A</td><td>A5</td><td>Source Verified</td><td>8600.0</td><td>Individual</td><td>null</td><td>null</td></tr>\n",
       "<tr><td>202d9f56ecb7c3bc9...</td><td>police officer</td><td>7 years</td><td>OWN</td><td>85000.0</td><td>TX</td><td>799xx</td><td>USA</td><td>A</td><td>A5</td><td>Source Verified</td><td>272384.0</td><td>Individual</td><td>null</td><td>null</td></tr>\n",
       "<tr><td>e5a140c0922b554b9...</td><td>community living ...</td><td>6 years</td><td>RENT</td><td>48000.0</td><td>NY</td><td>146xx</td><td>USA</td><td>B</td><td>B2</td><td>Source Verified</td><td>85092.0</td><td>Individual</td><td>null</td><td>null</td></tr>\n",
       "<tr><td>e12aefc548f750777...</td><td>Office</td><td>10+ years</td><td>OWN</td><td>33000.0</td><td>CT</td><td>067xx</td><td>USA</td><td>F</td><td>F1</td><td>Verified</td><td>7100.0</td><td>Individual</td><td>null</td><td>null</td></tr>\n",
       "<tr><td>1b3a50d854fbbf97e...</td><td>Special Tooling I...</td><td>10+ years</td><td>MORTGAGE</td><td>81000.0</td><td>TX</td><td>791xx</td><td>USA</td><td>E</td><td>E5</td><td>Verified</td><td>190274.0</td><td>Individual</td><td>null</td><td>null</td></tr>\n",
       "<tr><td>1c4329e5f17697127...</td><td>Mine ops tech 6</td><td>2 years</td><td>MORTGAGE</td><td>68000.0</td><td>AZ</td><td>855xx</td><td>USA</td><td>C</td><td>C3</td><td>Not Verified</td><td>182453.0</td><td>Individual</td><td>null</td><td>null</td></tr>\n",
       "<tr><td>5026c86ad983175eb...</td><td>caregiver</td><td>4 years</td><td>RENT</td><td>76020.0</td><td>WA</td><td>993xx</td><td>USA</td><td>C</td><td>C2</td><td>Source Verified</td><td>15308.0</td><td>Individual</td><td>null</td><td>null</td></tr>\n",
       "<tr><td>9847d8c1e9d0b2084...</td><td>null</td><td>null</td><td>OWN</td><td>65000.0</td><td>IL</td><td>624xx</td><td>USA</td><td>E</td><td>E3</td><td>Verified</td><td>128800.0</td><td>Individual</td><td>null</td><td>null</td></tr>\n",
       "<tr><td>8340dbe1adea41fb4...</td><td>Vice President Re...</td><td>8 years</td><td>MORTGAGE</td><td>111000.0</td><td>CT</td><td>063xx</td><td>USA</td><td>A</td><td>A1</td><td>Not Verified</td><td>343507.0</td><td>Individual</td><td>null</td><td>null</td></tr>\n",
       "<tr><td>d4de0de3ab7d79ad4...</td><td>FOREMAN</td><td>10+ years</td><td>MORTGAGE</td><td>67000.0</td><td>WA</td><td>992xx</td><td>USA</td><td>G</td><td>G2</td><td>Verified</td><td>211501.0</td><td>Individual</td><td>null</td><td>null</td></tr>\n",
       "<tr><td>3df3cdeddb74a8712...</td><td>Strategist</td><td>1 year</td><td>RENT</td><td>120000.0</td><td>CA</td><td>946xx</td><td>USA</td><td>A</td><td>A5</td><td>Verified</td><td>56844.0</td><td>Individual</td><td>null</td><td>null</td></tr>\n",
       "<tr><td>9dd72636b1b4045b4...</td><td>Office Manager</td><td>2 years</td><td>RENT</td><td>52000.0</td><td>FL</td><td>327xx</td><td>USA</td><td>D</td><td>D1</td><td>Source Verified</td><td>39393.0</td><td>Individual</td><td>null</td><td>null</td></tr>\n",
       "<tr><td>1d4e1ef4353b73c00...</td><td>Electrician</td><td>2 years</td><td>MORTGAGE</td><td>50000.0</td><td>IL</td><td>606xx</td><td>USA</td><td>C</td><td>C3</td><td>Not Verified</td><td>66064.0</td><td>Individual</td><td>null</td><td>null</td></tr>\n",
       "<tr><td>6f196952e71277fd4...</td><td>Finance Manager</td><td>1 year</td><td>MORTGAGE</td><td>125000.0</td><td>GA</td><td>310xx</td><td>USA</td><td>E</td><td>E2</td><td>Source Verified</td><td>555591.0</td><td>Individual</td><td>null</td><td>null</td></tr>\n",
       "<tr><td>9c617cbc6e3e3d6a1...</td><td>Nurse practitioner</td><td>5 years</td><td>MORTGAGE</td><td>165000.0</td><td>IL</td><td>610xx</td><td>USA</td><td>F</td><td>F1</td><td>Source Verified</td><td>366113.0</td><td>Individual</td><td>null</td><td>null</td></tr>\n",
       "<tr><td>45eb04dd75400a942...</td><td>equipment operator</td><td>3 years</td><td>MORTGAGE</td><td>60000.0</td><td>CT</td><td>064xx</td><td>USA</td><td>C</td><td>C4</td><td>Source Verified</td><td>198693.0</td><td>Individual</td><td>null</td><td>null</td></tr>\n",
       "<tr><td>08d233c81f9e50726...</td><td>caregiver</td><td>2 years</td><td>RENT</td><td>36000.0</td><td>MO</td><td>648xx</td><td>USA</td><td>C</td><td>C1</td><td>Source Verified</td><td>14477.0</td><td>Individual</td><td>null</td><td>null</td></tr>\n",
       "<tr><td>8ff4d0ed17a1cab92...</td><td>owner</td><td>10+ years</td><td>MORTGAGE</td><td>28000.0</td><td>CO</td><td>801xx</td><td>USA</td><td>D</td><td>D1</td><td>Verified</td><td>314400.0</td><td>Individual</td><td>null</td><td>null</td></tr>\n",
       "<tr><td>aec13cfd611b2cfea...</td><td>Community Supervi...</td><td>2 years</td><td>RENT</td><td>33000.0</td><td>GA</td><td>306xx</td><td>USA</td><td>D</td><td>D2</td><td>Source Verified</td><td>188700.0</td><td>Individual</td><td>null</td><td>null</td></tr>\n",
       "<tr><td>9ba8c96ccba6cd1f0...</td><td>Contract Specialist</td><td>5 years</td><td>MORTGAGE</td><td>74700.0</td><td>UT</td><td>844xx</td><td>USA</td><td>D</td><td>D4</td><td>Verified</td><td>614272.0</td><td>Individual</td><td>null</td><td>null</td></tr>\n",
       "</table>\n",
       "only showing top 20 rows\n"
      ],
      "text/plain": [
       "+--------------------+--------------------+----------+--------------+-------------+-------------+---------------+---------------+-----+---------+-------------------+-----------------------+----------------+------------------+-------------------------+\n",
       "|           member_id|           emp_title|emp_length|home_ownership|annual_income|address_state|address_zipcode|address_country|grade|sub_grade|verification_status|total_high_credit_limit|application_type|join_annual_income|verification_status_joint|\n",
       "+--------------------+--------------------+----------+--------------+-------------+-------------+---------------+---------------+-----+---------+-------------------+-----------------------+----------------+------------------+-------------------------+\n",
       "|b59d80da191f5b573...|                null|      null|          RENT|      50000.0|           OR|          973xx|            USA|    A|       A5|    Source Verified|                 8600.0|      Individual|              null|                     null|\n",
       "|202d9f56ecb7c3bc9...|      police officer|   7 years|           OWN|      85000.0|           TX|          799xx|            USA|    A|       A5|    Source Verified|               272384.0|      Individual|              null|                     null|\n",
       "|e5a140c0922b554b9...|community living ...|   6 years|          RENT|      48000.0|           NY|          146xx|            USA|    B|       B2|    Source Verified|                85092.0|      Individual|              null|                     null|\n",
       "|e12aefc548f750777...|              Office| 10+ years|           OWN|      33000.0|           CT|          067xx|            USA|    F|       F1|           Verified|                 7100.0|      Individual|              null|                     null|\n",
       "|1b3a50d854fbbf97e...|Special Tooling I...| 10+ years|      MORTGAGE|      81000.0|           TX|          791xx|            USA|    E|       E5|           Verified|               190274.0|      Individual|              null|                     null|\n",
       "|1c4329e5f17697127...|     Mine ops tech 6|   2 years|      MORTGAGE|      68000.0|           AZ|          855xx|            USA|    C|       C3|       Not Verified|               182453.0|      Individual|              null|                     null|\n",
       "|5026c86ad983175eb...|           caregiver|   4 years|          RENT|      76020.0|           WA|          993xx|            USA|    C|       C2|    Source Verified|                15308.0|      Individual|              null|                     null|\n",
       "|9847d8c1e9d0b2084...|                null|      null|           OWN|      65000.0|           IL|          624xx|            USA|    E|       E3|           Verified|               128800.0|      Individual|              null|                     null|\n",
       "|8340dbe1adea41fb4...|Vice President Re...|   8 years|      MORTGAGE|     111000.0|           CT|          063xx|            USA|    A|       A1|       Not Verified|               343507.0|      Individual|              null|                     null|\n",
       "|d4de0de3ab7d79ad4...|             FOREMAN| 10+ years|      MORTGAGE|      67000.0|           WA|          992xx|            USA|    G|       G2|           Verified|               211501.0|      Individual|              null|                     null|\n",
       "|3df3cdeddb74a8712...|          Strategist|    1 year|          RENT|     120000.0|           CA|          946xx|            USA|    A|       A5|           Verified|                56844.0|      Individual|              null|                     null|\n",
       "|9dd72636b1b4045b4...|      Office Manager|   2 years|          RENT|      52000.0|           FL|          327xx|            USA|    D|       D1|    Source Verified|                39393.0|      Individual|              null|                     null|\n",
       "|1d4e1ef4353b73c00...|         Electrician|   2 years|      MORTGAGE|      50000.0|           IL|          606xx|            USA|    C|       C3|       Not Verified|                66064.0|      Individual|              null|                     null|\n",
       "|6f196952e71277fd4...|     Finance Manager|    1 year|      MORTGAGE|     125000.0|           GA|          310xx|            USA|    E|       E2|    Source Verified|               555591.0|      Individual|              null|                     null|\n",
       "|9c617cbc6e3e3d6a1...|  Nurse practitioner|   5 years|      MORTGAGE|     165000.0|           IL|          610xx|            USA|    F|       F1|    Source Verified|               366113.0|      Individual|              null|                     null|\n",
       "|45eb04dd75400a942...|  equipment operator|   3 years|      MORTGAGE|      60000.0|           CT|          064xx|            USA|    C|       C4|    Source Verified|               198693.0|      Individual|              null|                     null|\n",
       "|08d233c81f9e50726...|           caregiver|   2 years|          RENT|      36000.0|           MO|          648xx|            USA|    C|       C1|    Source Verified|                14477.0|      Individual|              null|                     null|\n",
       "|8ff4d0ed17a1cab92...|               owner| 10+ years|      MORTGAGE|      28000.0|           CO|          801xx|            USA|    D|       D1|           Verified|               314400.0|      Individual|              null|                     null|\n",
       "|aec13cfd611b2cfea...|Community Supervi...|   2 years|          RENT|      33000.0|           GA|          306xx|            USA|    D|       D2|    Source Verified|               188700.0|      Individual|              null|                     null|\n",
       "|9ba8c96ccba6cd1f0...| Contract Specialist|   5 years|      MORTGAGE|      74700.0|           UT|          844xx|            USA|    D|       D4|           Verified|               614272.0|      Individual|              null|                     null|\n",
       "+--------------------+--------------------+----------+--------------+-------------+-------------+---------------+---------------+-----+---------+-------------------+-----------------------+----------------+------------------+-------------------------+\n",
       "only showing top 20 rows"
      ]
     },
     "execution_count": 13,
     "metadata": {},
     "output_type": "execute_result"
    }
   ],
   "source": [
    "customers_raw_renamed"
   ]
  },
  {
   "cell_type": "markdown",
   "id": "d3383d5c",
   "metadata": {},
   "source": [
    "#### add a new column"
   ]
  },
  {
   "cell_type": "code",
   "execution_count": 14,
   "id": "58687e99",
   "metadata": {},
   "outputs": [],
   "source": [
    "from pyspark.sql.functions import current_timestamp"
   ]
  },
  {
   "cell_type": "code",
   "execution_count": 15,
   "id": "ff505fbf",
   "metadata": {},
   "outputs": [],
   "source": [
    "customers_df_ingested = customers_raw_renamed.withColumn(\"ingest_date\",current_timestamp())"
   ]
  },
  {
   "cell_type": "code",
   "execution_count": 16,
   "id": "dea68b53",
   "metadata": {},
   "outputs": [
    {
     "data": {
      "text/html": [
       "<table border='1'>\n",
       "<tr><th>member_id</th><th>emp_title</th><th>emp_length</th><th>home_ownership</th><th>annual_income</th><th>address_state</th><th>address_zipcode</th><th>address_country</th><th>grade</th><th>sub_grade</th><th>verification_status</th><th>total_high_credit_limit</th><th>application_type</th><th>join_annual_income</th><th>verification_status_joint</th><th>ingest_date</th></tr>\n",
       "<tr><td>b59d80da191f5b573...</td><td>null</td><td>null</td><td>RENT</td><td>50000.0</td><td>OR</td><td>973xx</td><td>USA</td><td>A</td><td>A5</td><td>Source Verified</td><td>8600.0</td><td>Individual</td><td>null</td><td>null</td><td>2024-02-19 06:39:...</td></tr>\n",
       "<tr><td>202d9f56ecb7c3bc9...</td><td>police officer</td><td>7 years</td><td>OWN</td><td>85000.0</td><td>TX</td><td>799xx</td><td>USA</td><td>A</td><td>A5</td><td>Source Verified</td><td>272384.0</td><td>Individual</td><td>null</td><td>null</td><td>2024-02-19 06:39:...</td></tr>\n",
       "<tr><td>e5a140c0922b554b9...</td><td>community living ...</td><td>6 years</td><td>RENT</td><td>48000.0</td><td>NY</td><td>146xx</td><td>USA</td><td>B</td><td>B2</td><td>Source Verified</td><td>85092.0</td><td>Individual</td><td>null</td><td>null</td><td>2024-02-19 06:39:...</td></tr>\n",
       "<tr><td>e12aefc548f750777...</td><td>Office</td><td>10+ years</td><td>OWN</td><td>33000.0</td><td>CT</td><td>067xx</td><td>USA</td><td>F</td><td>F1</td><td>Verified</td><td>7100.0</td><td>Individual</td><td>null</td><td>null</td><td>2024-02-19 06:39:...</td></tr>\n",
       "<tr><td>1b3a50d854fbbf97e...</td><td>Special Tooling I...</td><td>10+ years</td><td>MORTGAGE</td><td>81000.0</td><td>TX</td><td>791xx</td><td>USA</td><td>E</td><td>E5</td><td>Verified</td><td>190274.0</td><td>Individual</td><td>null</td><td>null</td><td>2024-02-19 06:39:...</td></tr>\n",
       "<tr><td>1c4329e5f17697127...</td><td>Mine ops tech 6</td><td>2 years</td><td>MORTGAGE</td><td>68000.0</td><td>AZ</td><td>855xx</td><td>USA</td><td>C</td><td>C3</td><td>Not Verified</td><td>182453.0</td><td>Individual</td><td>null</td><td>null</td><td>2024-02-19 06:39:...</td></tr>\n",
       "<tr><td>5026c86ad983175eb...</td><td>caregiver</td><td>4 years</td><td>RENT</td><td>76020.0</td><td>WA</td><td>993xx</td><td>USA</td><td>C</td><td>C2</td><td>Source Verified</td><td>15308.0</td><td>Individual</td><td>null</td><td>null</td><td>2024-02-19 06:39:...</td></tr>\n",
       "<tr><td>9847d8c1e9d0b2084...</td><td>null</td><td>null</td><td>OWN</td><td>65000.0</td><td>IL</td><td>624xx</td><td>USA</td><td>E</td><td>E3</td><td>Verified</td><td>128800.0</td><td>Individual</td><td>null</td><td>null</td><td>2024-02-19 06:39:...</td></tr>\n",
       "<tr><td>8340dbe1adea41fb4...</td><td>Vice President Re...</td><td>8 years</td><td>MORTGAGE</td><td>111000.0</td><td>CT</td><td>063xx</td><td>USA</td><td>A</td><td>A1</td><td>Not Verified</td><td>343507.0</td><td>Individual</td><td>null</td><td>null</td><td>2024-02-19 06:39:...</td></tr>\n",
       "<tr><td>d4de0de3ab7d79ad4...</td><td>FOREMAN</td><td>10+ years</td><td>MORTGAGE</td><td>67000.0</td><td>WA</td><td>992xx</td><td>USA</td><td>G</td><td>G2</td><td>Verified</td><td>211501.0</td><td>Individual</td><td>null</td><td>null</td><td>2024-02-19 06:39:...</td></tr>\n",
       "<tr><td>3df3cdeddb74a8712...</td><td>Strategist</td><td>1 year</td><td>RENT</td><td>120000.0</td><td>CA</td><td>946xx</td><td>USA</td><td>A</td><td>A5</td><td>Verified</td><td>56844.0</td><td>Individual</td><td>null</td><td>null</td><td>2024-02-19 06:39:...</td></tr>\n",
       "<tr><td>9dd72636b1b4045b4...</td><td>Office Manager</td><td>2 years</td><td>RENT</td><td>52000.0</td><td>FL</td><td>327xx</td><td>USA</td><td>D</td><td>D1</td><td>Source Verified</td><td>39393.0</td><td>Individual</td><td>null</td><td>null</td><td>2024-02-19 06:39:...</td></tr>\n",
       "<tr><td>1d4e1ef4353b73c00...</td><td>Electrician</td><td>2 years</td><td>MORTGAGE</td><td>50000.0</td><td>IL</td><td>606xx</td><td>USA</td><td>C</td><td>C3</td><td>Not Verified</td><td>66064.0</td><td>Individual</td><td>null</td><td>null</td><td>2024-02-19 06:39:...</td></tr>\n",
       "<tr><td>6f196952e71277fd4...</td><td>Finance Manager</td><td>1 year</td><td>MORTGAGE</td><td>125000.0</td><td>GA</td><td>310xx</td><td>USA</td><td>E</td><td>E2</td><td>Source Verified</td><td>555591.0</td><td>Individual</td><td>null</td><td>null</td><td>2024-02-19 06:39:...</td></tr>\n",
       "<tr><td>9c617cbc6e3e3d6a1...</td><td>Nurse practitioner</td><td>5 years</td><td>MORTGAGE</td><td>165000.0</td><td>IL</td><td>610xx</td><td>USA</td><td>F</td><td>F1</td><td>Source Verified</td><td>366113.0</td><td>Individual</td><td>null</td><td>null</td><td>2024-02-19 06:39:...</td></tr>\n",
       "<tr><td>45eb04dd75400a942...</td><td>equipment operator</td><td>3 years</td><td>MORTGAGE</td><td>60000.0</td><td>CT</td><td>064xx</td><td>USA</td><td>C</td><td>C4</td><td>Source Verified</td><td>198693.0</td><td>Individual</td><td>null</td><td>null</td><td>2024-02-19 06:39:...</td></tr>\n",
       "<tr><td>08d233c81f9e50726...</td><td>caregiver</td><td>2 years</td><td>RENT</td><td>36000.0</td><td>MO</td><td>648xx</td><td>USA</td><td>C</td><td>C1</td><td>Source Verified</td><td>14477.0</td><td>Individual</td><td>null</td><td>null</td><td>2024-02-19 06:39:...</td></tr>\n",
       "<tr><td>8ff4d0ed17a1cab92...</td><td>owner</td><td>10+ years</td><td>MORTGAGE</td><td>28000.0</td><td>CO</td><td>801xx</td><td>USA</td><td>D</td><td>D1</td><td>Verified</td><td>314400.0</td><td>Individual</td><td>null</td><td>null</td><td>2024-02-19 06:39:...</td></tr>\n",
       "<tr><td>aec13cfd611b2cfea...</td><td>Community Supervi...</td><td>2 years</td><td>RENT</td><td>33000.0</td><td>GA</td><td>306xx</td><td>USA</td><td>D</td><td>D2</td><td>Source Verified</td><td>188700.0</td><td>Individual</td><td>null</td><td>null</td><td>2024-02-19 06:39:...</td></tr>\n",
       "<tr><td>9ba8c96ccba6cd1f0...</td><td>Contract Specialist</td><td>5 years</td><td>MORTGAGE</td><td>74700.0</td><td>UT</td><td>844xx</td><td>USA</td><td>D</td><td>D4</td><td>Verified</td><td>614272.0</td><td>Individual</td><td>null</td><td>null</td><td>2024-02-19 06:39:...</td></tr>\n",
       "</table>\n",
       "only showing top 20 rows\n"
      ],
      "text/plain": [
       "+--------------------+--------------------+----------+--------------+-------------+-------------+---------------+---------------+-----+---------+-------------------+-----------------------+----------------+------------------+-------------------------+--------------------+\n",
       "|           member_id|           emp_title|emp_length|home_ownership|annual_income|address_state|address_zipcode|address_country|grade|sub_grade|verification_status|total_high_credit_limit|application_type|join_annual_income|verification_status_joint|         ingest_date|\n",
       "+--------------------+--------------------+----------+--------------+-------------+-------------+---------------+---------------+-----+---------+-------------------+-----------------------+----------------+------------------+-------------------------+--------------------+\n",
       "|b59d80da191f5b573...|                null|      null|          RENT|      50000.0|           OR|          973xx|            USA|    A|       A5|    Source Verified|                 8600.0|      Individual|              null|                     null|2024-02-19 06:39:...|\n",
       "|202d9f56ecb7c3bc9...|      police officer|   7 years|           OWN|      85000.0|           TX|          799xx|            USA|    A|       A5|    Source Verified|               272384.0|      Individual|              null|                     null|2024-02-19 06:39:...|\n",
       "|e5a140c0922b554b9...|community living ...|   6 years|          RENT|      48000.0|           NY|          146xx|            USA|    B|       B2|    Source Verified|                85092.0|      Individual|              null|                     null|2024-02-19 06:39:...|\n",
       "|e12aefc548f750777...|              Office| 10+ years|           OWN|      33000.0|           CT|          067xx|            USA|    F|       F1|           Verified|                 7100.0|      Individual|              null|                     null|2024-02-19 06:39:...|\n",
       "|1b3a50d854fbbf97e...|Special Tooling I...| 10+ years|      MORTGAGE|      81000.0|           TX|          791xx|            USA|    E|       E5|           Verified|               190274.0|      Individual|              null|                     null|2024-02-19 06:39:...|\n",
       "|1c4329e5f17697127...|     Mine ops tech 6|   2 years|      MORTGAGE|      68000.0|           AZ|          855xx|            USA|    C|       C3|       Not Verified|               182453.0|      Individual|              null|                     null|2024-02-19 06:39:...|\n",
       "|5026c86ad983175eb...|           caregiver|   4 years|          RENT|      76020.0|           WA|          993xx|            USA|    C|       C2|    Source Verified|                15308.0|      Individual|              null|                     null|2024-02-19 06:39:...|\n",
       "|9847d8c1e9d0b2084...|                null|      null|           OWN|      65000.0|           IL|          624xx|            USA|    E|       E3|           Verified|               128800.0|      Individual|              null|                     null|2024-02-19 06:39:...|\n",
       "|8340dbe1adea41fb4...|Vice President Re...|   8 years|      MORTGAGE|     111000.0|           CT|          063xx|            USA|    A|       A1|       Not Verified|               343507.0|      Individual|              null|                     null|2024-02-19 06:39:...|\n",
       "|d4de0de3ab7d79ad4...|             FOREMAN| 10+ years|      MORTGAGE|      67000.0|           WA|          992xx|            USA|    G|       G2|           Verified|               211501.0|      Individual|              null|                     null|2024-02-19 06:39:...|\n",
       "|3df3cdeddb74a8712...|          Strategist|    1 year|          RENT|     120000.0|           CA|          946xx|            USA|    A|       A5|           Verified|                56844.0|      Individual|              null|                     null|2024-02-19 06:39:...|\n",
       "|9dd72636b1b4045b4...|      Office Manager|   2 years|          RENT|      52000.0|           FL|          327xx|            USA|    D|       D1|    Source Verified|                39393.0|      Individual|              null|                     null|2024-02-19 06:39:...|\n",
       "|1d4e1ef4353b73c00...|         Electrician|   2 years|      MORTGAGE|      50000.0|           IL|          606xx|            USA|    C|       C3|       Not Verified|                66064.0|      Individual|              null|                     null|2024-02-19 06:39:...|\n",
       "|6f196952e71277fd4...|     Finance Manager|    1 year|      MORTGAGE|     125000.0|           GA|          310xx|            USA|    E|       E2|    Source Verified|               555591.0|      Individual|              null|                     null|2024-02-19 06:39:...|\n",
       "|9c617cbc6e3e3d6a1...|  Nurse practitioner|   5 years|      MORTGAGE|     165000.0|           IL|          610xx|            USA|    F|       F1|    Source Verified|               366113.0|      Individual|              null|                     null|2024-02-19 06:39:...|\n",
       "|45eb04dd75400a942...|  equipment operator|   3 years|      MORTGAGE|      60000.0|           CT|          064xx|            USA|    C|       C4|    Source Verified|               198693.0|      Individual|              null|                     null|2024-02-19 06:39:...|\n",
       "|08d233c81f9e50726...|           caregiver|   2 years|          RENT|      36000.0|           MO|          648xx|            USA|    C|       C1|    Source Verified|                14477.0|      Individual|              null|                     null|2024-02-19 06:39:...|\n",
       "|8ff4d0ed17a1cab92...|               owner| 10+ years|      MORTGAGE|      28000.0|           CO|          801xx|            USA|    D|       D1|           Verified|               314400.0|      Individual|              null|                     null|2024-02-19 06:39:...|\n",
       "|aec13cfd611b2cfea...|Community Supervi...|   2 years|          RENT|      33000.0|           GA|          306xx|            USA|    D|       D2|    Source Verified|               188700.0|      Individual|              null|                     null|2024-02-19 06:39:...|\n",
       "|9ba8c96ccba6cd1f0...| Contract Specialist|   5 years|      MORTGAGE|      74700.0|           UT|          844xx|            USA|    D|       D4|           Verified|               614272.0|      Individual|              null|                     null|2024-02-19 06:39:...|\n",
       "+--------------------+--------------------+----------+--------------+-------------+-------------+---------------+---------------+-----+---------+-------------------+-----------------------+----------------+------------------+-------------------------+--------------------+\n",
       "only showing top 20 rows"
      ]
     },
     "execution_count": 16,
     "metadata": {},
     "output_type": "execute_result"
    }
   ],
   "source": [
    "customers_df_ingested"
   ]
  },
  {
   "cell_type": "code",
   "execution_count": 17,
   "id": "ddcb854e",
   "metadata": {},
   "outputs": [
    {
     "data": {
      "text/plain": [
       "2260701"
      ]
     },
     "execution_count": 17,
     "metadata": {},
     "output_type": "execute_result"
    }
   ],
   "source": [
    "customers_df_ingested.count()"
   ]
  },
  {
   "cell_type": "code",
   "execution_count": 18,
   "id": "335ec836",
   "metadata": {},
   "outputs": [],
   "source": [
    "customers_distinct = customers_df_ingested.distinct()"
   ]
  },
  {
   "cell_type": "code",
   "execution_count": 19,
   "id": "4be9dc50",
   "metadata": {},
   "outputs": [
    {
     "data": {
      "text/plain": [
       "2260638"
      ]
     },
     "execution_count": 19,
     "metadata": {},
     "output_type": "execute_result"
    }
   ],
   "source": [
    "customers_distinct.count()"
   ]
  },
  {
   "cell_type": "code",
   "execution_count": 20,
   "id": "fa3b31f9",
   "metadata": {},
   "outputs": [],
   "source": [
    "customers_distinct.createOrReplaceTempView(\"customers\")"
   ]
  },
  {
   "cell_type": "code",
   "execution_count": 21,
   "id": "2444193b",
   "metadata": {},
   "outputs": [
    {
     "data": {
      "text/html": [
       "<table border='1'>\n",
       "<tr><th>member_id</th><th>emp_title</th><th>emp_length</th><th>home_ownership</th><th>annual_income</th><th>address_state</th><th>address_zipcode</th><th>address_country</th><th>grade</th><th>sub_grade</th><th>verification_status</th><th>total_high_credit_limit</th><th>application_type</th><th>join_annual_income</th><th>verification_status_joint</th><th>ingest_date</th></tr>\n",
       "<tr><td>4591211237ab1fe81...</td><td>Director</td><td>1 year</td><td>RENT</td><td>160000.0</td><td>NY</td><td>100xx</td><td>USA</td><td>B</td><td>B4</td><td>Not Verified</td><td>57400.0</td><td>Individual</td><td>null</td><td>null</td><td>2024-02-19 06:40:...</td></tr>\n",
       "<tr><td>5607fe14c7c596bca...</td><td>Treasury Manager</td><td>2 years</td><td>MORTGAGE</td><td>67100.0</td><td>LA</td><td>705xx</td><td>USA</td><td>A</td><td>A1</td><td>Not Verified</td><td>249350.0</td><td>Individual</td><td>null</td><td>null</td><td>2024-02-19 06:40:...</td></tr>\n",
       "<tr><td>202714291ec771c57...</td><td>Software Engineer...</td><td>4 years</td><td>RENT</td><td>86058.0</td><td>KY</td><td>405xx</td><td>USA</td><td>A</td><td>A5</td><td>Source Verified</td><td>30700.0</td><td>Individual</td><td>null</td><td>null</td><td>2024-02-19 06:40:...</td></tr>\n",
       "<tr><td>9bb7a085f039e3584...</td><td>Coach and Teacher</td><td>6 years</td><td>RENT</td><td>48000.0</td><td>TX</td><td>755xx</td><td>USA</td><td>C</td><td>C1</td><td>Source Verified</td><td>93380.0</td><td>Individual</td><td>null</td><td>null</td><td>2024-02-19 06:40:...</td></tr>\n",
       "<tr><td>bcd6b23ef6af70379...</td><td>Customer Service</td><td>2 years</td><td>RENT</td><td>25324.8</td><td>NE</td><td>685xx</td><td>USA</td><td>F</td><td>F5</td><td>Verified</td><td>33000.0</td><td>Individual</td><td>null</td><td>null</td><td>2024-02-19 06:40:...</td></tr>\n",
       "<tr><td>74f4e22ac220be66e...</td><td>null</td><td>null</td><td>MORTGAGE</td><td>40632.0</td><td>NV</td><td>890xx</td><td>USA</td><td>A</td><td>A2</td><td>Not Verified</td><td>329525.0</td><td>Individual</td><td>null</td><td>null</td><td>2024-02-19 06:40:...</td></tr>\n",
       "<tr><td>635aded968f324605...</td><td>Behavior Interven...</td><td>1 year</td><td>OWN</td><td>20000.0</td><td>CA</td><td>917xx</td><td>USA</td><td>C</td><td>C1</td><td>Source Verified</td><td>9900.0</td><td>Individual</td><td>null</td><td>null</td><td>2024-02-19 06:40:...</td></tr>\n",
       "<tr><td>29382e0a9253cafd7...</td><td>Assistant Manager</td><td>8 years</td><td>MORTGAGE</td><td>77000.0</td><td>FL</td><td>330xx</td><td>USA</td><td>B</td><td>B4</td><td>Source Verified</td><td>178277.0</td><td>Individual</td><td>null</td><td>null</td><td>2024-02-19 06:40:...</td></tr>\n",
       "<tr><td>9eb9bc2ee637b3441...</td><td>Field operations</td><td>3 years</td><td>MORTGAGE</td><td>72000.0</td><td>AL</td><td>357xx</td><td>USA</td><td>C</td><td>C2</td><td>Source Verified</td><td>34600.0</td><td>Individual</td><td>null</td><td>null</td><td>2024-02-19 06:40:...</td></tr>\n",
       "<tr><td>60c7b2ea84a17218b...</td><td>Supervisor</td><td>3 years</td><td>MORTGAGE</td><td>64000.0</td><td>CA</td><td>917xx</td><td>USA</td><td>C</td><td>C1</td><td>Not Verified</td><td>434959.0</td><td>Individual</td><td>null</td><td>null</td><td>2024-02-19 06:40:...</td></tr>\n",
       "<tr><td>d49e2ad6005fb8dfe...</td><td>Registered nurse</td><td>9 years</td><td>MORTGAGE</td><td>75000.0</td><td>TX</td><td>761xx</td><td>USA</td><td>A</td><td>A1</td><td>Not Verified</td><td>115566.0</td><td>Individual</td><td>null</td><td>null</td><td>2024-02-19 06:40:...</td></tr>\n",
       "<tr><td>905c8a943b45b8aea...</td><td>Attorney</td><td>10+ years</td><td>MORTGAGE</td><td>305000.0</td><td>IL</td><td>600xx</td><td>USA</td><td>A</td><td>A5</td><td>Source Verified</td><td>540543.0</td><td>Individual</td><td>null</td><td>null</td><td>2024-02-19 06:40:...</td></tr>\n",
       "<tr><td>5b92f8c0ae77bc091...</td><td>Senior Correction...</td><td>10+ years</td><td>MORTGAGE</td><td>55000.0</td><td>NV</td><td>893xx</td><td>USA</td><td>E</td><td>E1</td><td>Not Verified</td><td>171497.0</td><td>Individual</td><td>null</td><td>null</td><td>2024-02-19 06:40:...</td></tr>\n",
       "<tr><td>6aa1f8e8b7f2c7122...</td><td>null</td><td>null</td><td>MORTGAGE</td><td>55000.0</td><td>KS</td><td>672xx</td><td>USA</td><td>B</td><td>B1</td><td>Verified</td><td>265300.0</td><td>Individual</td><td>null</td><td>null</td><td>2024-02-19 06:40:...</td></tr>\n",
       "<tr><td>a532db4081e516379...</td><td>SECURITY OFFICER</td><td>3 years</td><td>RENT</td><td>21000.0</td><td>FL</td><td>347xx</td><td>USA</td><td>C</td><td>C2</td><td>Verified</td><td>37458.0</td><td>Individual</td><td>null</td><td>null</td><td>2024-02-19 06:40:...</td></tr>\n",
       "<tr><td>78d3ed0d16e54b655...</td><td>Associate Director</td><td>9 years</td><td>RENT</td><td>89000.0</td><td>NY</td><td>113xx</td><td>USA</td><td>B</td><td>B5</td><td>Verified</td><td>40500.0</td><td>Individual</td><td>null</td><td>null</td><td>2024-02-19 06:40:...</td></tr>\n",
       "<tr><td>590eb476861ac4cf5...</td><td>Paralegal</td><td>10+ years</td><td>RENT</td><td>80000.0</td><td>NJ</td><td>087xx</td><td>USA</td><td>A</td><td>A2</td><td>Not Verified</td><td>116055.0</td><td>Individual</td><td>null</td><td>null</td><td>2024-02-19 06:40:...</td></tr>\n",
       "<tr><td>cecd354f0da22c393...</td><td>Sales</td><td>3 years</td><td>RENT</td><td>58000.0</td><td>VA</td><td>221xx</td><td>USA</td><td>C</td><td>C2</td><td>Not Verified</td><td>48400.0</td><td>Individual</td><td>null</td><td>null</td><td>2024-02-19 06:40:...</td></tr>\n",
       "<tr><td>98affb90e47286b73...</td><td>Diver</td><td>10+ years</td><td>MORTGAGE</td><td>72000.0</td><td>TX</td><td>781xx</td><td>USA</td><td>C</td><td>C3</td><td>Source Verified</td><td>204020.0</td><td>Individual</td><td>null</td><td>null</td><td>2024-02-19 06:40:...</td></tr>\n",
       "<tr><td>3b1daf9b26b208f9d...</td><td>Custodian</td><td>10+ years</td><td>RENT</td><td>43200.0</td><td>NY</td><td>114xx</td><td>USA</td><td>B</td><td>B3</td><td>Source Verified</td><td>73244.0</td><td>Individual</td><td>null</td><td>null</td><td>2024-02-19 06:40:...</td></tr>\n",
       "</table>\n",
       "only showing top 20 rows\n"
      ],
      "text/plain": [
       "+--------------------+--------------------+----------+--------------+-------------+-------------+---------------+---------------+-----+---------+-------------------+-----------------------+----------------+------------------+-------------------------+--------------------+\n",
       "|           member_id|           emp_title|emp_length|home_ownership|annual_income|address_state|address_zipcode|address_country|grade|sub_grade|verification_status|total_high_credit_limit|application_type|join_annual_income|verification_status_joint|         ingest_date|\n",
       "+--------------------+--------------------+----------+--------------+-------------+-------------+---------------+---------------+-----+---------+-------------------+-----------------------+----------------+------------------+-------------------------+--------------------+\n",
       "|5280800e557879e94...|      Police Officer|   8 years|      MORTGAGE|     120000.0|           NJ|          088xx|            USA|    A|       A1|    Source Verified|               317088.0|      Individual|              null|                     null|2024-02-19 06:40:...|\n",
       "|59cc8aef3a6789cf6...|               Owner| 10+ years|          RENT|     180000.0|           NJ|          078xx|            USA|    D|       D2|    Source Verified|               210868.0|      Individual|              null|                     null|2024-02-19 06:40:...|\n",
       "|e4c45a7c8456b3567...|             Teacher| 10+ years|      MORTGAGE|     105000.0|           CA|          943xx|            USA|    A|       A2|    Source Verified|               579600.0|      Individual|              null|                     null|2024-02-19 06:40:...|\n",
       "|e7e604a81ffa97523...|Director of Telec...| 10+ years|      MORTGAGE|     160000.0|           NJ|          080xx|            USA|    A|       A3|           Verified|               588371.0|      Individual|              null|                     null|2024-02-19 06:40:...|\n",
       "|e064c07ef9cb6ca86...|production operat...|   8 years|      MORTGAGE|      34000.0|           UT|          840xx|            USA|    C|       C1|       Not Verified|                53945.0|      Individual|              null|                     null|2024-02-19 06:40:...|\n",
       "|e05945f30b00a7629...|                null|      null|          RENT|      52270.0|           CT|          060xx|            USA|    D|       D1|           Verified|                29067.0|      Individual|              null|                     null|2024-02-19 06:40:...|\n",
       "|17467dd42e54bdd2b...|             Painter|    1 year|          RENT|      64400.0|           MA|          010xx|            USA|    E|       E3|    Source Verified|                96919.0|      Individual|              null|                     null|2024-02-19 06:40:...|\n",
       "|fb1b59c929ddaff41...|WAREHOUSE SUPERVISOR|   6 years|      MORTGAGE|      91000.0|           CA|          922xx|            USA|    B|       B4|    Source Verified|               445772.0|      Individual|              null|                     null|2024-02-19 06:40:...|\n",
       "|17b77a27f489de06e...|        Senior Ageny|   4 years|      MORTGAGE|      70000.0|           KY|          411xx|            USA|    B|       B4|    Source Verified|               348051.0|       Joint App|          180000.0|          Source Verified|2024-02-19 06:40:...|\n",
       "|d385038b4338c70a5...|                null|      null|      MORTGAGE|      51000.0|           OH|          452xx|            USA|    A|       A3|       Not Verified|               172706.0|      Individual|              null|                     null|2024-02-19 06:40:...|\n",
       "|100b76116a3a8341d...|               Owner| 10+ years|      MORTGAGE|     116000.0|           MI|          483xx|            USA|    B|       B4|       Not Verified|               301921.0|      Individual|              null|                     null|2024-02-19 06:40:...|\n",
       "|f66203db98da22de9...|       Exec Director| 10+ years|      MORTGAGE|     114500.0|           OH|          456xx|            USA|    B|       B5|    Source Verified|               481206.0|      Individual|              null|                     null|2024-02-19 06:40:...|\n",
       "|2a77300875f314367...|Constituent Repre...|   3 years|           OWN|      39000.0|           WI|          549xx|            USA|    B|       B4|       Not Verified|                 4500.0|      Individual|              null|                     null|2024-02-19 06:40:...|\n",
       "|2834710fd22394916...| Locomotive engineer| 10+ years|      MORTGAGE|     100000.0|           WY|          822xx|            USA|    D|       D4|       Not Verified|               203200.0|      Individual|              null|                     null|2024-02-19 06:40:...|\n",
       "|163baad89b63af52b...|  Gel coat team lead|   7 years|      MORTGAGE|      60000.0|           TN|          377xx|            USA|    E|       E3|           Verified|               163484.0|      Individual|              null|                     null|2024-02-19 06:40:...|\n",
       "|19465ce1c7c965b8c...|      Service writer|   2 years|          RENT|      44800.0|           AL|          366xx|            USA|    C|       C1|    Source Verified|                80642.0|      Individual|              null|                     null|2024-02-19 06:40:...|\n",
       "|cadf2c90f5a99e15f...|   Financial Analyst|  < 1 year|          RENT|      70000.0|           NY|          100xx|            USA|    B|       B2|    Source Verified|                65364.0|      Individual|              null|                     null|2024-02-19 06:40:...|\n",
       "|c96b284c967527e14...|   Workforce manager|   9 years|      MORTGAGE|      50000.0|           OK|          740xx|            USA|    D|       D5|           Verified|               143732.0|      Individual|              null|                     null|2024-02-19 06:40:...|\n",
       "|6939b23beb7ee79bd...|Business Developm...|  < 1 year|      MORTGAGE|     100000.0|           MI|          494xx|            USA|    B|       B5|       Not Verified|                81200.0|      Individual|              null|                     null|2024-02-19 06:40:...|\n",
       "|642f7e79f784c8eb4...|Sales Engineer Sp...|   3 years|      MORTGAGE|      75000.0|           GA|          300xx|            USA|    C|       C3|    Source Verified|               273857.0|      Individual|              null|                     null|2024-02-19 06:40:...|\n",
       "+--------------------+--------------------+----------+--------------+-------------+-------------+---------------+---------------+-----+---------+-------------------+-----------------------+----------------+------------------+-------------------------+--------------------+\n",
       "only showing top 20 rows"
      ]
     },
     "execution_count": 21,
     "metadata": {},
     "output_type": "execute_result"
    }
   ],
   "source": [
    "spark.sql(\"select * from customers\")"
   ]
  },
  {
   "cell_type": "code",
   "execution_count": 22,
   "id": "0a22cc96",
   "metadata": {},
   "outputs": [
    {
     "data": {
      "text/html": [
       "<table border='1'>\n",
       "<tr><th>count(1)</th></tr>\n",
       "<tr><td>5</td></tr>\n",
       "</table>\n"
      ],
      "text/plain": [
       "+--------+\n",
       "|count(1)|\n",
       "+--------+\n",
       "|       5|\n",
       "+--------+"
      ]
     },
     "execution_count": 22,
     "metadata": {},
     "output_type": "execute_result"
    }
   ],
   "source": [
    "spark.sql(\"select count(*) from customers where annual_income is null\")"
   ]
  },
  {
   "cell_type": "code",
   "execution_count": 23,
   "id": "e418f869",
   "metadata": {},
   "outputs": [],
   "source": [
    "customers_income_filtered = spark.sql(\"select * from customers where annual_income is not null\")"
   ]
  },
  {
   "cell_type": "code",
   "execution_count": 24,
   "id": "0f37c6dc",
   "metadata": {},
   "outputs": [],
   "source": [
    "customers_income_filtered.createOrReplaceTempView(\"customers\")"
   ]
  },
  {
   "cell_type": "code",
   "execution_count": 25,
   "id": "d31f018e",
   "metadata": {},
   "outputs": [
    {
     "name": "stdout",
     "output_type": "stream",
     "text": [
      "+----------+\n",
      "|emp_length|\n",
      "+----------+\n",
      "|   9 years|\n",
      "|   5 years|\n",
      "|      null|\n",
      "|    1 year|\n",
      "|   2 years|\n",
      "|   7 years|\n",
      "|   8 years|\n",
      "|   4 years|\n",
      "|   6 years|\n",
      "|   3 years|\n",
      "| 10+ years|\n",
      "|  < 1 year|\n",
      "+----------+\n",
      "\n"
     ]
    }
   ],
   "source": [
    "spark.sql(\"select distinct (emp_length) from customers\").show()"
   ]
  },
  {
   "cell_type": "code",
   "execution_count": 26,
   "id": "2c157f0e",
   "metadata": {},
   "outputs": [],
   "source": [
    "from pyspark.sql.functions import regexp_replace,col"
   ]
  },
  {
   "cell_type": "code",
   "execution_count": 27,
   "id": "47ece0e6",
   "metadata": {},
   "outputs": [],
   "source": [
    "customers_emplength_cleaned = customers_income_filtered.withColumn(\"emp_length\",regexp_replace(col(\"emp_length\"),\"(\\D)\",\"\"))"
   ]
  },
  {
   "cell_type": "code",
   "execution_count": 28,
   "id": "547c3971",
   "metadata": {},
   "outputs": [
    {
     "data": {
      "text/html": [
       "<table border='1'>\n",
       "<tr><th>member_id</th><th>emp_title</th><th>emp_length</th><th>home_ownership</th><th>annual_income</th><th>address_state</th><th>address_zipcode</th><th>address_country</th><th>grade</th><th>sub_grade</th><th>verification_status</th><th>total_high_credit_limit</th><th>application_type</th><th>join_annual_income</th><th>verification_status_joint</th><th>ingest_date</th></tr>\n",
       "<tr><td>47f1d894253e49028...</td><td>Vendor Management...</td><td>1</td><td>RENT</td><td>38000.0</td><td>GA</td><td>303xx</td><td>USA</td><td>D</td><td>D5</td><td>Verified</td><td>51040.0</td><td>Individual</td><td>null</td><td>null</td><td>2024-02-19 06:40:...</td></tr>\n",
       "<tr><td>1401e244d62c3f7ad...</td><td>Customer Service ...</td><td>1</td><td>RENT</td><td>32000.0</td><td>VA</td><td>223xx</td><td>USA</td><td>E</td><td>E4</td><td>Source Verified</td><td>47676.0</td><td>Individual</td><td>null</td><td>null</td><td>2024-02-19 06:40:...</td></tr>\n",
       "<tr><td>2e893fd171ce59df3...</td><td>Senior Underwriter</td><td>3</td><td>MORTGAGE</td><td>115000.0</td><td>WA</td><td>981xx</td><td>USA</td><td>C</td><td>C1</td><td>Verified</td><td>1346864.0</td><td>Individual</td><td>null</td><td>null</td><td>2024-02-19 06:40:...</td></tr>\n",
       "<tr><td>f8b45c11dcac74a60...</td><td>Pharmacy technician</td><td>2</td><td>RENT</td><td>24000.0</td><td>CT</td><td>061xx</td><td>USA</td><td>C</td><td>C5</td><td>Source Verified</td><td>45350.0</td><td>Individual</td><td>null</td><td>null</td><td>2024-02-19 06:40:...</td></tr>\n",
       "<tr><td>68b3e17a15db33079...</td><td>facilities</td><td>5</td><td>OWN</td><td>60000.0</td><td>MI</td><td>486xx</td><td>USA</td><td>B</td><td>B5</td><td>Verified</td><td>44700.0</td><td>Individual</td><td>null</td><td>null</td><td>2024-02-19 06:40:...</td></tr>\n",
       "<tr><td>38f4563bf310120d1...</td><td>Field Supervisor</td><td>10</td><td>RENT</td><td>52000.0</td><td>KY</td><td>412xx</td><td>USA</td><td>D</td><td>D5</td><td>Source Verified</td><td>42499.0</td><td>Individual</td><td>null</td><td>null</td><td>2024-02-19 06:40:...</td></tr>\n",
       "<tr><td>81e31927252bb7f63...</td><td>Infants Teacher</td><td>4</td><td>RENT</td><td>19500.0</td><td>PA</td><td>184xx</td><td>USA</td><td>D</td><td>D4</td><td>Verified</td><td>25600.0</td><td>Joint App</td><td>79500.0</td><td>Verified</td><td>2024-02-19 06:40:...</td></tr>\n",
       "<tr><td>d2f3047232a3ffacb...</td><td>Senior Payroll Sp...</td><td>10</td><td>RENT</td><td>64709.0</td><td>MD</td><td>217xx</td><td>USA</td><td>C</td><td>C2</td><td>Source Verified</td><td>65615.0</td><td>Individual</td><td>null</td><td>null</td><td>2024-02-19 06:40:...</td></tr>\n",
       "<tr><td>e2d535b3233726ef5...</td><td>null</td><td>null</td><td>OWN</td><td>30696.0</td><td>NY</td><td>104xx</td><td>USA</td><td>A</td><td>A4</td><td>Not Verified</td><td>70617.0</td><td>Individual</td><td>null</td><td>null</td><td>2024-02-19 06:40:...</td></tr>\n",
       "<tr><td>61f07d32460bd41eb...</td><td>Structual Enginee...</td><td>10</td><td>MORTGAGE</td><td>83471.0</td><td>IN</td><td>467xx</td><td>USA</td><td>C</td><td>C4</td><td>Not Verified</td><td>218934.0</td><td>Individual</td><td>null</td><td>null</td><td>2024-02-19 06:40:...</td></tr>\n",
       "<tr><td>9c3b50a82985f9ba5...</td><td>Respiratory Thera...</td><td>10</td><td>MORTGAGE</td><td>65000.0</td><td>UT</td><td>840xx</td><td>USA</td><td>B</td><td>B4</td><td>Verified</td><td>401410.0</td><td>Individual</td><td>null</td><td>null</td><td>2024-02-19 06:40:...</td></tr>\n",
       "<tr><td>7b4245a7e8d84b4c3...</td><td>Analyst</td><td>10</td><td>MORTGAGE</td><td>76800.0</td><td>PA</td><td>190xx</td><td>USA</td><td>B</td><td>B2</td><td>Source Verified</td><td>319881.0</td><td>Individual</td><td>null</td><td>null</td><td>2024-02-19 06:40:...</td></tr>\n",
       "<tr><td>a6fa277cda468c3eb...</td><td>COSMICTICIAN</td><td>10</td><td>RENT</td><td>39297.0</td><td>NY</td><td>113xx</td><td>USA</td><td>B</td><td>B4</td><td>Not Verified</td><td>28200.0</td><td>Individual</td><td>null</td><td>null</td><td>2024-02-19 06:40:...</td></tr>\n",
       "<tr><td>23f412ef9fa5178a3...</td><td>Police officer</td><td>8</td><td>MORTGAGE</td><td>85000.0</td><td>FL</td><td>330xx</td><td>USA</td><td>D</td><td>D2</td><td>Source Verified</td><td>58800.0</td><td>Individual</td><td>null</td><td>null</td><td>2024-02-19 06:40:...</td></tr>\n",
       "<tr><td>7581fcdc4de9fa977...</td><td>Support Services</td><td>2</td><td>MORTGAGE</td><td>46800.0</td><td>MN</td><td>557xx</td><td>USA</td><td>B</td><td>B5</td><td>Verified</td><td>283242.0</td><td>Joint App</td><td>102960.0</td><td>Verified</td><td>2024-02-19 06:40:...</td></tr>\n",
       "<tr><td>9227691055586339a...</td><td>Marketing Manager</td><td>10</td><td>MORTGAGE</td><td>56758.0</td><td>OH</td><td>452xx</td><td>USA</td><td>A</td><td>A1</td><td>Source Verified</td><td>193096.0</td><td>Individual</td><td>null</td><td>null</td><td>2024-02-19 06:40:...</td></tr>\n",
       "<tr><td>bc54bec6a517e5765...</td><td>Production</td><td>2</td><td>OWN</td><td>30000.0</td><td>AZ</td><td>856xx</td><td>USA</td><td>A</td><td>A2</td><td>Not Verified</td><td>23400.0</td><td>Individual</td><td>null</td><td>null</td><td>2024-02-19 06:40:...</td></tr>\n",
       "<tr><td>4be61c4c7afddbf4e...</td><td>Bakery Clerk</td><td>2</td><td>RENT</td><td>15000.0</td><td>TX</td><td>760xx</td><td>USA</td><td>D</td><td>D2</td><td>Not Verified</td><td>33975.0</td><td>Individual</td><td>null</td><td>null</td><td>2024-02-19 06:40:...</td></tr>\n",
       "<tr><td>1ec9544279d729d2d...</td><td>Head Cashier</td><td>2</td><td>RENT</td><td>55000.0</td><td>CA</td><td>946xx</td><td>USA</td><td>B</td><td>B2</td><td>Source Verified</td><td>48300.0</td><td>Individual</td><td>null</td><td>null</td><td>2024-02-19 06:40:...</td></tr>\n",
       "<tr><td>e3849e849deff2682...</td><td>Senior Management...</td><td>10</td><td>RENT</td><td>110000.0</td><td>CA</td><td>951xx</td><td>USA</td><td>E</td><td>E4</td><td>Source Verified</td><td>37290.0</td><td>Individual</td><td>null</td><td>null</td><td>2024-02-19 06:40:...</td></tr>\n",
       "</table>\n",
       "only showing top 20 rows\n"
      ],
      "text/plain": [
       "+--------------------+--------------------+----------+--------------+-------------+-------------+---------------+---------------+-----+---------+-------------------+-----------------------+----------------+------------------+-------------------------+--------------------+\n",
       "|           member_id|           emp_title|emp_length|home_ownership|annual_income|address_state|address_zipcode|address_country|grade|sub_grade|verification_status|total_high_credit_limit|application_type|join_annual_income|verification_status_joint|         ingest_date|\n",
       "+--------------------+--------------------+----------+--------------+-------------+-------------+---------------+---------------+-----+---------+-------------------+-----------------------+----------------+------------------+-------------------------+--------------------+\n",
       "|9e5652570d61ef00b...|         Team Leader|        10|      MORTGAGE|     147000.0|           KS|          665xx|            USA|    B|       B1|    Source Verified|               238878.0|      Individual|              null|                     null|2024-02-19 06:40:...|\n",
       "|900f85da4427607ba...|                 Lpn|        10|          RENT|      60000.0|           CT|          067xx|            USA|    A|       A5|    Source Verified|                71869.0|      Individual|              null|                     null|2024-02-19 06:40:...|\n",
       "|adb2afc0054bc232d...|         Sr. Manager|        10|      MORTGAGE|      84300.0|           TX|          770xx|            USA|    D|       D1|           Verified|               331983.0|      Individual|              null|                     null|2024-02-19 06:40:...|\n",
       "|dce8d213dc196bafb...|               sales|         1|      MORTGAGE|     100000.0|           OH|          442xx|            USA|    A|       A4|       Not Verified|               182500.0|      Individual|              null|                     null|2024-02-19 06:40:...|\n",
       "|4dc2b606175a470b3...|Retail Assistant ...|         1|          RENT|      45000.0|           WA|          980xx|            USA|    E|       E5|    Source Verified|                93266.0|      Individual|              null|                     null|2024-02-19 06:40:...|\n",
       "|5883dbabd373a7913...|             Teacher|         4|      MORTGAGE|      50000.0|           OH|          450xx|            USA|    C|       C2|    Source Verified|               156766.0|      Individual|              null|                     null|2024-02-19 06:40:...|\n",
       "|ef953cb61652f1007...|  Driver/Installator|         1|           OWN|      34000.0|           CA|          923xx|            USA|    C|       C1|    Source Verified|                48285.0|      Individual|              null|                     null|2024-02-19 06:40:...|\n",
       "|1a9de9858700ebe0c...|               Radio|        10|          RENT|      43000.0|           FL|          330xx|            USA|    D|       D5|    Source Verified|                50300.0|      Individual|              null|                     null|2024-02-19 06:40:...|\n",
       "|597804137bd09e707...|Juvenile Probatio...|        10|          RENT|      39600.0|           OK|          735xx|            USA|    B|       B4|    Source Verified|                58161.0|      Individual|              null|                     null|2024-02-19 06:40:...|\n",
       "|b1a0aa1153cb4f7d0...|               c.e.o|         7|      MORTGAGE|    112242.29|           MD|          208xx|            USA|    A|       A3|    Source Verified|                31384.0|      Individual|              null|                     null|2024-02-19 06:40:...|\n",
       "|652112e3f28620859...| Production Operator|        10|      MORTGAGE|      59000.0|           WA|          983xx|            USA|    B|       B2|    Source Verified|               381616.0|      Individual|              null|                     null|2024-02-19 06:40:...|\n",
       "|8a4f27863c8fb90cf...|               Clerk|         4|      MORTGAGE|      80000.0|           NC|          287xx|            USA|    A|       A1|       Not Verified|                69457.0|      Individual|              null|                     null|2024-02-19 06:40:...|\n",
       "|5906ee0807498139f...|             Manager|         5|          RENT|      25000.0|           TX|          750xx|            USA|    B|       B3|    Source Verified|                18200.0|      Individual|              null|                     null|2024-02-19 06:40:...|\n",
       "|6a6fedee72201d2d8...|Orientation Repre...|         6|      MORTGAGE|      70000.0|           GA|          301xx|            USA|    B|       B1|    Source Verified|                40000.0|      Individual|              null|                     null|2024-02-19 06:40:...|\n",
       "|5f2f33a603e10814b...|   financial analyst|         2|          RENT|      70000.0|           FL|          331xx|            USA|    B|       B2|           Verified|               112556.0|      Individual|              null|                     null|2024-02-19 06:40:...|\n",
       "|73b8d32d17b93716c...|   Pipeline mechanic|        10|      MORTGAGE|     140000.0|           NY|          103xx|            USA|    C|       C3|    Source Verified|               297238.0|       Joint App|          195000.0|          Source Verified|2024-02-19 06:40:...|\n",
       "|2329eae20cd6fd441...|                null|      null|      MORTGAGE|     260000.0|           CA|          953xx|            USA|    A|       A3|    Source Verified|               399574.0|      Individual|              null|                     null|2024-02-19 06:40:...|\n",
       "|a113bcc47f26f7f1f...|         Underwriter|         6|          RENT|      37000.0|           SD|          571xx|            USA|    A|       A3|       Not Verified|                84363.0|      Individual|              null|                     null|2024-02-19 06:40:...|\n",
       "|385930222e4aea5bd...|              Server|         4|          RENT|     116000.0|           FL|          326xx|            USA|    A|       A4|       Not Verified|                36774.0|      Individual|              null|                     null|2024-02-19 06:40:...|\n",
       "|4347c1d4414aca537...|               Nurse|        10|      MORTGAGE|      39000.0|           AL|          356xx|            USA|    A|       A3|    Source Verified|               128360.0|      Individual|              null|                     null|2024-02-19 06:40:...|\n",
       "+--------------------+--------------------+----------+--------------+-------------+-------------+---------------+---------------+-----+---------+-------------------+-----------------------+----------------+------------------+-------------------------+--------------------+\n",
       "only showing top 20 rows"
      ]
     },
     "execution_count": 28,
     "metadata": {},
     "output_type": "execute_result"
    }
   ],
   "source": [
    "customers_emplength_cleaned"
   ]
  },
  {
   "cell_type": "code",
   "execution_count": 29,
   "id": "87caceb6",
   "metadata": {},
   "outputs": [
    {
     "name": "stdout",
     "output_type": "stream",
     "text": [
      "root\n",
      " |-- member_id: string (nullable = true)\n",
      " |-- emp_title: string (nullable = true)\n",
      " |-- emp_length: string (nullable = true)\n",
      " |-- home_ownership: string (nullable = true)\n",
      " |-- annual_income: float (nullable = true)\n",
      " |-- address_state: string (nullable = true)\n",
      " |-- address_zipcode: string (nullable = true)\n",
      " |-- address_country: string (nullable = true)\n",
      " |-- grade: string (nullable = true)\n",
      " |-- sub_grade: string (nullable = true)\n",
      " |-- verification_status: string (nullable = true)\n",
      " |-- total_high_credit_limit: float (nullable = true)\n",
      " |-- application_type: string (nullable = true)\n",
      " |-- join_annual_income: float (nullable = true)\n",
      " |-- verification_status_joint: string (nullable = true)\n",
      " |-- ingest_date: timestamp (nullable = false)\n",
      "\n"
     ]
    }
   ],
   "source": [
    "customers_emplength_cleaned.printSchema()"
   ]
  },
  {
   "cell_type": "code",
   "execution_count": 30,
   "id": "67e1b0db",
   "metadata": {},
   "outputs": [],
   "source": [
    "customers_emplength_casted = customers_emplength_cleaned.withColumn(\"emp_length\",customers_emplength_cleaned.emp_length.cast('int'))"
   ]
  },
  {
   "cell_type": "code",
   "execution_count": 31,
   "id": "de65aeea",
   "metadata": {},
   "outputs": [
    {
     "data": {
      "text/html": [
       "<table border='1'>\n",
       "<tr><th>member_id</th><th>emp_title</th><th>emp_length</th><th>home_ownership</th><th>annual_income</th><th>address_state</th><th>address_zipcode</th><th>address_country</th><th>grade</th><th>sub_grade</th><th>verification_status</th><th>total_high_credit_limit</th><th>application_type</th><th>join_annual_income</th><th>verification_status_joint</th><th>ingest_date</th></tr>\n",
       "<tr><td>3a02ff0f7e8bc5de2...</td><td>Manager</td><td>6</td><td>RENT</td><td>43000.0</td><td>CA</td><td>926xx</td><td>USA</td><td>C</td><td>C3</td><td>Not Verified</td><td>48495.0</td><td>Individual</td><td>null</td><td>null</td><td>2024-02-19 06:41:...</td></tr>\n",
       "<tr><td>0d5ff84859788a028...</td><td>Supply Chain Manager</td><td>7</td><td>MORTGAGE</td><td>82000.0</td><td>TX</td><td>786xx</td><td>USA</td><td>B</td><td>B2</td><td>Not Verified</td><td>288520.0</td><td>Individual</td><td>null</td><td>null</td><td>2024-02-19 06:41:...</td></tr>\n",
       "<tr><td>82c015a2d80c824b6...</td><td>physical therapis...</td><td>7</td><td>MORTGAGE</td><td>66500.0</td><td>WA</td><td>982xx</td><td>USA</td><td>B</td><td>B3</td><td>Not Verified</td><td>259926.0</td><td>Individual</td><td>null</td><td>null</td><td>2024-02-19 06:41:...</td></tr>\n",
       "<tr><td>9e5c868073dee96c1...</td><td>Salon Manager</td><td>1</td><td>RENT</td><td>50000.0</td><td>AR</td><td>724xx</td><td>USA</td><td>B</td><td>B1</td><td>Source Verified</td><td>99445.0</td><td>Individual</td><td>null</td><td>null</td><td>2024-02-19 06:41:...</td></tr>\n",
       "<tr><td>f9e5f70b0280a894c...</td><td>null</td><td>null</td><td>RENT</td><td>28000.0</td><td>SC</td><td>294xx</td><td>USA</td><td>C</td><td>C3</td><td>Verified</td><td>12940.0</td><td>Individual</td><td>null</td><td>null</td><td>2024-02-19 06:41:...</td></tr>\n",
       "<tr><td>396e2d77a876e9f06...</td><td>intake coordinator</td><td>1</td><td>RENT</td><td>38340.0</td><td>UT</td><td>840xx</td><td>USA</td><td>B</td><td>B2</td><td>Not Verified</td><td>33328.0</td><td>Individual</td><td>null</td><td>null</td><td>2024-02-19 06:41:...</td></tr>\n",
       "<tr><td>d9af6aba979703a44...</td><td>Automation Engineer</td><td>2</td><td>MORTGAGE</td><td>60000.0</td><td>OH</td><td>452xx</td><td>USA</td><td>A</td><td>A5</td><td>Verified</td><td>235000.0</td><td>Individual</td><td>null</td><td>null</td><td>2024-02-19 06:41:...</td></tr>\n",
       "<tr><td>98153da9f9e254bbe...</td><td>Administrative As...</td><td>10</td><td>MORTGAGE</td><td>80000.0</td><td>TX</td><td>786xx</td><td>USA</td><td>D</td><td>D1</td><td>Verified</td><td>249317.0</td><td>Individual</td><td>null</td><td>null</td><td>2024-02-19 06:41:...</td></tr>\n",
       "<tr><td>9deb2919b478ab578...</td><td>Tech Support Rep</td><td>6</td><td>MORTGAGE</td><td>41000.0</td><td>TX</td><td>799xx</td><td>USA</td><td>C</td><td>C1</td><td>Not Verified</td><td>107615.0</td><td>Individual</td><td>null</td><td>null</td><td>2024-02-19 06:41:...</td></tr>\n",
       "<tr><td>867d45f628805225a...</td><td>Director of Insti...</td><td>1</td><td>MORTGAGE</td><td>86000.0</td><td>CT</td><td>060xx</td><td>USA</td><td>A</td><td>A5</td><td>Verified</td><td>231591.0</td><td>Individual</td><td>null</td><td>null</td><td>2024-02-19 06:41:...</td></tr>\n",
       "<tr><td>9d548d07457532cde...</td><td>Drafter</td><td>1</td><td>RENT</td><td>50000.0</td><td>CA</td><td>921xx</td><td>USA</td><td>B</td><td>B2</td><td>Not Verified</td><td>54392.0</td><td>Individual</td><td>null</td><td>null</td><td>2024-02-19 06:41:...</td></tr>\n",
       "<tr><td>ea3626156161b483c...</td><td>Guidance Counselor</td><td>8</td><td>MORTGAGE</td><td>87000.0</td><td>IL</td><td>600xx</td><td>USA</td><td>A</td><td>A4</td><td>Source Verified</td><td>221926.0</td><td>Individual</td><td>null</td><td>null</td><td>2024-02-19 06:41:...</td></tr>\n",
       "<tr><td>c661f74803467a904...</td><td>Project Manager</td><td>1</td><td>MORTGAGE</td><td>40000.0</td><td>LA</td><td>701xx</td><td>USA</td><td>A</td><td>A2</td><td>Source Verified</td><td>245006.0</td><td>Individual</td><td>null</td><td>null</td><td>2024-02-19 06:41:...</td></tr>\n",
       "<tr><td>5dc49830485c4aba3...</td><td>CEO</td><td>3</td><td>MORTGAGE</td><td>96000.0</td><td>CA</td><td>923xx</td><td>USA</td><td>C</td><td>C3</td><td>Verified</td><td>332819.0</td><td>Individual</td><td>null</td><td>null</td><td>2024-02-19 06:41:...</td></tr>\n",
       "<tr><td>9f6d7e84ef852140e...</td><td>teacher</td><td>1</td><td>RENT</td><td>18624.0</td><td>PA</td><td>191xx</td><td>USA</td><td>B</td><td>B4</td><td>Not Verified</td><td>25500.0</td><td>Individual</td><td>null</td><td>null</td><td>2024-02-19 06:41:...</td></tr>\n",
       "<tr><td>c08aa4df2e7b4e577...</td><td>VP Of Distributio...</td><td>10</td><td>RENT</td><td>183000.0</td><td>NJ</td><td>077xx</td><td>USA</td><td>C</td><td>C4</td><td>Verified</td><td>126334.0</td><td>Individual</td><td>null</td><td>null</td><td>2024-02-19 06:41:...</td></tr>\n",
       "<tr><td>af00debb64d08501a...</td><td>Paralegal NCO</td><td>8</td><td>RENT</td><td>53000.0</td><td>TX</td><td>765xx</td><td>USA</td><td>F</td><td>F5</td><td>Verified</td><td>39023.0</td><td>Individual</td><td>null</td><td>null</td><td>2024-02-19 06:41:...</td></tr>\n",
       "<tr><td>cf49d1c4833641625...</td><td>Security Operatio...</td><td>1</td><td>MORTGAGE</td><td>88000.0</td><td>GA</td><td>300xx</td><td>USA</td><td>B</td><td>B4</td><td>Verified</td><td>357656.0</td><td>Individual</td><td>null</td><td>null</td><td>2024-02-19 06:41:...</td></tr>\n",
       "<tr><td>bd878fc77a236a036...</td><td>Personal banker</td><td>7</td><td>MORTGAGE</td><td>43000.0</td><td>WA</td><td>980xx</td><td>USA</td><td>B</td><td>B2</td><td>Not Verified</td><td>15800.0</td><td>Individual</td><td>null</td><td>null</td><td>2024-02-19 06:41:...</td></tr>\n",
       "<tr><td>929f87ba7a75c23c2...</td><td>Regional Manager ...</td><td>2</td><td>MORTGAGE</td><td>88000.0</td><td>GA</td><td>300xx</td><td>USA</td><td>B</td><td>B3</td><td>Verified</td><td>315613.0</td><td>Individual</td><td>null</td><td>null</td><td>2024-02-19 06:41:...</td></tr>\n",
       "</table>\n",
       "only showing top 20 rows\n"
      ],
      "text/plain": [
       "+--------------------+--------------------+----------+--------------+-------------+-------------+---------------+---------------+-----+---------+-------------------+-----------------------+----------------+------------------+-------------------------+--------------------+\n",
       "|           member_id|           emp_title|emp_length|home_ownership|annual_income|address_state|address_zipcode|address_country|grade|sub_grade|verification_status|total_high_credit_limit|application_type|join_annual_income|verification_status_joint|         ingest_date|\n",
       "+--------------------+--------------------+----------+--------------+-------------+-------------+---------------+---------------+-----+---------+-------------------+-----------------------+----------------+------------------+-------------------------+--------------------+\n",
       "|bf310134bf4932d6b...|Andministrative C...|        10|      MORTGAGE|      60000.0|           TX|          770xx|            USA|    B|       B2|    Source Verified|               122537.0|      Individual|              null|                     null|2024-02-19 06:40:...|\n",
       "|aab45ee4caf84c1e6...|              Driver|        10|      MORTGAGE|      80000.0|           SC|          297xx|            USA|    F|       F2|       Not Verified|               255097.0|      Individual|              null|                     null|2024-02-19 06:40:...|\n",
       "|f422bac32f127756e...|              Driver|        10|      MORTGAGE|      40000.0|           AL|          350xx|            USA|    D|       D1|       Not Verified|                95054.0|      Individual|              null|                     null|2024-02-19 06:40:...|\n",
       "|d8762961ad7d3feee...|                  RN|        10|      MORTGAGE|     140000.0|           CA|          923xx|            USA|    C|       C5|    Source Verified|               391328.0|      Individual|              null|                     null|2024-02-19 06:40:...|\n",
       "|404d7944eb41bc9e5...|                  RN|         9|      MORTGAGE|      68000.0|           FL|          347xx|            USA|    B|       B1|    Source Verified|               210548.0|      Individual|              null|                     null|2024-02-19 06:40:...|\n",
       "|f54dcb4dba45777f0...|      Office Manager|         4|          RENT|      65000.0|           WA|          980xx|            USA|    E|       E4|    Source Verified|                47216.0|      Individual|              null|                     null|2024-02-19 06:40:...|\n",
       "|47d32631894928109...| Corrections Officer|        10|      MORTGAGE|      65000.0|           MI|          496xx|            USA|    D|       D2|       Not Verified|               108398.0|      Individual|              null|                     null|2024-02-19 06:40:...|\n",
       "|325447d2338fc0484...|  Library Supervisor|         3|          RENT|      43000.0|           CA|          900xx|            USA|    C|       C5|           Verified|                55041.0|      Individual|              null|                     null|2024-02-19 06:40:...|\n",
       "|040550744a11fe189...|         casino host|        10|      MORTGAGE|      43000.0|           NY|          136xx|            USA|    D|       D3|       Not Verified|               175610.0|      Individual|              null|                     null|2024-02-19 06:40:...|\n",
       "|fd4740e2cd70eb030...|Senior Program Co...|        10|          RENT|      46000.0|           WI|          541xx|            USA|    D|       D3|       Not Verified|               109162.0|      Individual|              null|                     null|2024-02-19 06:40:...|\n",
       "|78343d295e579a420...|Director of Human...|         1|          RENT|     118000.0|           NJ|          073xx|            USA|    B|       B5|       Not Verified|               192161.0|      Individual|              null|                     null|2024-02-19 06:40:...|\n",
       "|62dde9bd15663e8c7...|correctional officer|         8|           OWN|      88000.0|           CA|          939xx|            USA|    C|       C1|    Source Verified|               197069.0|      Individual|              null|                     null|2024-02-19 06:40:...|\n",
       "|5d78e1077ea13255e...|Technology Suppor...|        10|      MORTGAGE|     132000.0|           TN|          370xx|            USA|    C|       C4|       Not Verified|               200813.0|      Individual|              null|                     null|2024-02-19 06:40:...|\n",
       "|0a45fbe6b7a7465c3...|                null|      null|      MORTGAGE|      50000.0|           NY|          142xx|            USA|    B|       B4|           Verified|               180033.0|      Individual|              null|                     null|2024-02-19 06:40:...|\n",
       "|5434d0232282779f2...|      PCI Specialist|         1|      MORTGAGE|     116000.0|           NY|          125xx|            USA|    B|       B3|       Not Verified|               267273.0|      Individual|              null|                     null|2024-02-19 06:40:...|\n",
       "|ca70be1f627d8e7bf...|       line mechanic|         1|      MORTGAGE|      60000.0|           AR|          720xx|            USA|    C|       C2|       Not Verified|                84800.0|      Individual|              null|                     null|2024-02-19 06:40:...|\n",
       "|83bdebf61bac398a4...|      Administrative|         8|          RENT|      50000.0|           NY|          115xx|            USA|    A|       A5|       Not Verified|               115294.0|      Individual|              null|                     null|2024-02-19 06:40:...|\n",
       "|3027c594161b8f6a9...|                null|      null|           OWN|      35000.0|           TN|          370xx|            USA|    B|       B1|       Not Verified|               177861.0|      Individual|              null|                     null|2024-02-19 06:40:...|\n",
       "|1d3d4b1fdd8c2ece6...|Healthcare Progra...|        10|      MORTGAGE|      82000.0|           CA|          931xx|            USA|    A|       A4|       Not Verified|                64600.0|      Individual|              null|                     null|2024-02-19 06:40:...|\n",
       "|f89c1845378ef6d4c...|       Parts Manager|        10|      MORTGAGE|      60000.0|           CA|          953xx|            USA|    B|       B1|       Not Verified|               179100.0|      Individual|              null|                     null|2024-02-19 06:40:...|\n",
       "+--------------------+--------------------+----------+--------------+-------------+-------------+---------------+---------------+-----+---------+-------------------+-----------------------+----------------+------------------+-------------------------+--------------------+\n",
       "only showing top 20 rows"
      ]
     },
     "execution_count": 31,
     "metadata": {},
     "output_type": "execute_result"
    }
   ],
   "source": [
    "customers_emplength_casted"
   ]
  },
  {
   "cell_type": "code",
   "execution_count": 32,
   "id": "b32d956e",
   "metadata": {},
   "outputs": [
    {
     "name": "stdout",
     "output_type": "stream",
     "text": [
      "root\n",
      " |-- member_id: string (nullable = true)\n",
      " |-- emp_title: string (nullable = true)\n",
      " |-- emp_length: integer (nullable = true)\n",
      " |-- home_ownership: string (nullable = true)\n",
      " |-- annual_income: float (nullable = true)\n",
      " |-- address_state: string (nullable = true)\n",
      " |-- address_zipcode: string (nullable = true)\n",
      " |-- address_country: string (nullable = true)\n",
      " |-- grade: string (nullable = true)\n",
      " |-- sub_grade: string (nullable = true)\n",
      " |-- verification_status: string (nullable = true)\n",
      " |-- total_high_credit_limit: float (nullable = true)\n",
      " |-- application_type: string (nullable = true)\n",
      " |-- join_annual_income: float (nullable = true)\n",
      " |-- verification_status_joint: string (nullable = true)\n",
      " |-- ingest_date: timestamp (nullable = false)\n",
      "\n"
     ]
    }
   ],
   "source": [
    "customers_emplength_casted.printSchema()"
   ]
  },
  {
   "cell_type": "code",
   "execution_count": 33,
   "id": "c98c87ee",
   "metadata": {},
   "outputs": [
    {
     "data": {
      "text/plain": [
       "146903"
      ]
     },
     "execution_count": 33,
     "metadata": {},
     "output_type": "execute_result"
    }
   ],
   "source": [
    "customers_emplength_casted.filter(\"emp_length is null \").count()"
   ]
  },
  {
   "cell_type": "code",
   "execution_count": 34,
   "id": "9a9b2ba6",
   "metadata": {},
   "outputs": [],
   "source": [
    "customers_emplength_casted.createOrReplaceTempView(\"customers\")"
   ]
  },
  {
   "cell_type": "code",
   "execution_count": 35,
   "id": "6fa7999f",
   "metadata": {},
   "outputs": [
    {
     "data": {
      "text/html": [
       "<table border='1'>\n",
       "<tr><th>avg_emp_length</th></tr>\n",
       "<tr><td>6.021258628112389</td></tr>\n",
       "</table>\n"
      ],
      "text/plain": [
       "+-----------------+\n",
       "|   avg_emp_length|\n",
       "+-----------------+\n",
       "|6.021258628112389|\n",
       "+-----------------+"
      ]
     },
     "execution_count": 35,
     "metadata": {},
     "output_type": "execute_result"
    }
   ],
   "source": [
    "spark.sql(\"select avg(emp_length) as avg_emp_length from customers\")"
   ]
  },
  {
   "cell_type": "code",
   "execution_count": 36,
   "id": "30832462",
   "metadata": {},
   "outputs": [],
   "source": [
    "avg_emp_length = spark.sql(\"select floor(avg(emp_length)) as avg_emp_length from customers\").collect()"
   ]
  },
  {
   "cell_type": "code",
   "execution_count": 37,
   "id": "71c7de66",
   "metadata": {},
   "outputs": [
    {
     "name": "stdout",
     "output_type": "stream",
     "text": [
      "[Row(avg_emp_length=6)]\n"
     ]
    }
   ],
   "source": [
    "print(avg_emp_length )"
   ]
  },
  {
   "cell_type": "code",
   "execution_count": 38,
   "id": "5b173163",
   "metadata": {},
   "outputs": [
    {
     "name": "stdout",
     "output_type": "stream",
     "text": [
      "[Row(avg_emp_length=6)]\n"
     ]
    }
   ],
   "source": [
    "avg_emp_duration = print( avg_emp_length)"
   ]
  },
  {
   "cell_type": "code",
   "execution_count": null,
   "id": "3800f0df",
   "metadata": {},
   "outputs": [],
   "source": []
  }
 ],
 "metadata": {
  "kernelspec": {
   "display_name": "Pyspark 3",
   "language": "python",
   "name": "pyspark3"
  },
  "language_info": {
   "codemirror_mode": {
    "name": "ipython",
    "version": 3
   },
   "file_extension": ".py",
   "mimetype": "text/x-python",
   "name": "python",
   "nbconvert_exporter": "python",
   "pygments_lexer": "ipython3",
   "version": "3.6.12"
  }
 },
 "nbformat": 4,
 "nbformat_minor": 5
}
